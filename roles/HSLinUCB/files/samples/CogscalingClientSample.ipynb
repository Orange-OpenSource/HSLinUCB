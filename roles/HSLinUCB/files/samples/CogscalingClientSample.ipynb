{
 "cells": [
  {
   "cell_type": "code",
   "execution_count": null,
   "metadata": {},
   "outputs": [],
   "source": [
    "# Software Name : HSLinUCB\n",
    "# SPDX-FileCopyrightText: Copyright (c) 2021 Orange\n",
    "# SPDX-License-Identifier: GPL-2.0\n",
    "#\n",
    "# This software is distributed under the GNU General Public License v2.0 license\n",
    "#\n",
    "# Author: David DELANDE <david.delande@orange.com> et al."
   ]
  },
  {
   "cell_type": "markdown",
   "metadata": {},
   "source": [
    "# Some orchestrator sample calls. This will set up the orchestrator, start injection, scale the deployment, retrieve context, store context in a dataset, read context from a dataset and stop injection"
   ]
  },
  {
   "cell_type": "markdown",
   "metadata": {},
   "source": [
    "## import lib and configure a dataset"
   ]
  },
  {
   "cell_type": "code",
   "execution_count": null,
   "metadata": {},
   "outputs": [],
   "source": [
    "import time\n",
    "from lib.CogscalingLib import Orchestrator\n",
    "\n",
    "sessionFile=\"my_new_dataset.h5\" #Set the dataset to use. If the dataset does not exist and self.record == True in environment (see below) the new dataset will be created\n",
    "environment = Orchestrator(debug=False, sessionFile=sessionFile)\n",
    "print(\"wait for thread activation before sending order to kafka...\")\n",
    "time.sleep(3)\n",
    "\n",
    "print(\"Activate debug on orchestrator thread\")\n",
    "status, message = environment.activateDebug(component='orchestrator')\n",
    "print(\"message:\", message)"
   ]
  },
  {
   "cell_type": "markdown",
   "metadata": {},
   "source": [
    "## Environment setup and components (orchestrator, zipkin, prometheus) configuration"
   ]
  },
  {
   "cell_type": "code",
   "execution_count": null,
   "metadata": {},
   "outputs": [],
   "source": [
    "print(\"Set front-dynamic-component deployment limit to min=1 and max=15\")\n",
    "status, message = environment.setDeploymentLimit(deployment=\"front-dynamic-component\", min=1, max=15)\n",
    "print(\"message:\", message)\n",
    "\n",
    "print(\"set prometheus thread history buffer size to 10\")\n",
    "status, message = environment.changePrometheusTraceNumber(trace_number=10)\n",
    "print(\"message:\", message)\n",
    "\n",
    "print(\"set zipkin thread history buffer size to 100\")\n",
    "status, message = environment.changeZipkinTraceNumber(trace_number=100)\n",
    "print(\"message:\", message)\n",
    "\n",
    "print(\"set zipkin thread lookback timewindow to 10 seconds\")\n",
    "status, message = environment.setZipkinLookback(lookback=12)\n",
    "print(\"message:\", message)\n",
    "\n",
    "print(\"Set number of sample taken from prometheus before raising the event scaling done\")\n",
    "status, message = environment.setSampleNumberBeforeAcceptScaling(sampleNumber=2)\n",
    "print(\"message:\", message)\n",
    "\n",
    "print(\"set zipkin service to collect by default zipkin collect only istio-ingressgateway\")\n",
    "status, message = environment.setZipkinService(services=['istio-ingressgateway','front-dynamic-component.default'])\n",
    "print(\"message:\", message)\n",
    "\n",
    "print(\"set prometheus deployment to collect by default prometheus only collect metrics for front-dynamic-component\")\n",
    "status, message = environment.setPrometheusService(deployments=['front-dynamic-component'])\n",
    "print(\"message:\", message)\n",
    "\n",
    "print(\"retrieve configuration\")\n",
    "status, message = environment.getConfig()\n",
    "print(\"configuration:\", message)"
   ]
  },
  {
   "cell_type": "markdown",
   "metadata": {},
   "source": [
    "## Start and manage locust injection"
   ]
  },
  {
   "cell_type": "code",
   "execution_count": null,
   "metadata": {},
   "outputs": [],
   "source": [
    "print(\"set current locust user to 5 (injection is started automatically if currently stopped)\")\n",
    "status, message = environment.setLocustUser(user=5,spawn_rate=1)\n",
    "print(\"message:\", message)\n",
    "\n",
    "print(\"Increment locust user by 1\")\n",
    "status, message = environment.incrementalLocustUser(step=1,spawn_rate=1)\n",
    "print(\"message:\", message)\n",
    "\n",
    "\n",
    "print(\"set current locust user to 10 with user creation step of 10 (injection is started automatically if currently stopped)\")\n",
    "status, message = environment.setLocustUser(user=10,spawn_rate=10)\n",
    "print(\"message:\", message)"
   ]
  },
  {
   "cell_type": "markdown",
   "metadata": {},
   "source": [
    "## Retrieve a context from the environment"
   ]
  },
  {
   "cell_type": "code",
   "execution_count": null,
   "metadata": {},
   "outputs": [],
   "source": [
    "print(\"retrieve agregated state from environment using zipkin and prometheus\")\n",
    "#State is returned in a unique pandas dataframe containing mix from zipkin and prometheus\n",
    "#components=[{'prometheus': 'ROOT', 'zipkin': 'istio-ingressgateway'},{'prometheus': 'front-dynamic-component','zipkin': 'front-dynamic-component-service.default.svc.cluster.local:80/*'},{'prometheus': 'back-dynamic-component', 'zipkin': 'back-dynamic-component-service.default.svc.cluster.local:80/*'}])\n",
    "#components=[{'prometheus': 'front-dynamic-component','zipkin': 'front-dynamic-component-service.default.svc.cluster.local:80/*'},{'prometheus': 'back-dynamic-component', 'zipkin': 'back-dynamic-component-service.default.svc.cluster.local:80/*'}])\n",
    "\n",
    "state = environment.getAgregatedState(components=[{'prometheus': 'front-dynamic-component','zipkin': 'front-dynamic-component-service.default.svc.cluster.local:80/*'}],replay=False, record=False,load=10, level=1,useMetricServer = False)\n",
    "print(\"state:\", state)\n",
    "\n",
    "print(\"retrieve agregated state from environment using zipkin and MetricServer\")\n",
    "#State is returned in a unique pandas dataframe containing mix from zipkin and prometheus\n",
    "#components=[{'prometheus': 'ROOT', 'zipkin': 'istio-ingressgateway'},{'prometheus': 'front-dynamic-component','zipkin': 'front-dynamic-component-service.default.svc.cluster.local:80/*'},{'prometheus': 'back-dynamic-component', 'zipkin': 'back-dynamic-component-service.default.svc.cluster.local:80/*'}])\n",
    "#components=[{'prometheus': 'front-dynamic-component','zipkin': 'front-dynamic-component-service.default.svc.cluster.local:80/*'},{'prometheus': 'back-dynamic-component', 'zipkin': 'back-dynamic-component-service.default.svc.cluster.local:80/*'}])\n",
    "\n",
    "state = environment.getAgregatedState(components=[{'prometheus': 'front-dynamic-component','zipkin': 'front-dynamic-component-service.default.svc.cluster.local:80/*'}],replay=False, record=False,load=10, level=1,useMetricServer = True)\n",
    "print(\"state:\", state)"
   ]
  },
  {
   "cell_type": "markdown",
   "metadata": {},
   "source": [
    "## Store and read a context in the dataset"
   ]
  },
  {
   "cell_type": "code",
   "execution_count": null,
   "metadata": {},
   "outputs": [],
   "source": [
    "print(\"retrieve agregated state from environment using zipkin and prometheus and store in the dataset\")\n",
    "#State is returned in a unique pandas dataframe containing mix from zipkin and prometheus\n",
    "#components=[{'prometheus': 'ROOT', 'zipkin': 'istio-ingressgateway'},{'prometheus': 'front-dynamic-component','zipkin': 'front-dynamic-component-service.default.svc.cluster.local:80/*'},{'prometheus': 'back-dynamic-component', 'zipkin': 'back-dynamic-component-service.default.svc.cluster.local:80/*'}])\n",
    "#components=[{'prometheus': 'front-dynamic-component','zipkin': 'front-dynamic-component-service.default.svc.cluster.local:80/*'},{'prometheus': 'back-dynamic-component', 'zipkin': 'back-dynamic-component-service.default.svc.cluster.local:80/*'}])\n",
    "\n",
    "state = environment.getAgregatedState(components=[{'prometheus': 'front-dynamic-component','zipkin': 'front-dynamic-component-service.default.svc.cluster.local:80/*'}],replay=False, record=True,load=10, level=1,useMetricServer = False)\n",
    "print(\"state:\", state)\n",
    "\n",
    "print(\"retrieve agregated state from dataset using zipkin and prometheus\")\n",
    "#An internal index on each [load level,number of container] is used. On the first call the first dataset entry is retrieved. On the next call\n",
    "#the second..when last index is reached, the index restarting at the beginning.\n",
    "#State is returned in a unique pandas dataframe containing mix from zipkin and prometheus\n",
    "#components=[{'prometheus': 'ROOT', 'zipkin': 'istio-ingressgateway'},{'prometheus': 'front-dynamic-component','zipkin': 'front-dynamic-component-service.default.svc.cluster.local:80/*'},{'prometheus': 'back-dynamic-component', 'zipkin': 'back-dynamic-component-service.default.svc.cluster.local:80/*'}])\n",
    "#components=[{'prometheus': 'front-dynamic-component','zipkin': 'front-dynamic-component-service.default.svc.cluster.local:80/*'},{'prometheus': 'back-dynamic-component', 'zipkin': 'back-dynamic-component-service.default.svc.cluster.local:80/*'}])\n",
    "\n",
    "state = environment.getAgregatedState(components=[{'prometheus': 'front-dynamic-component','zipkin': 'front-dynamic-component-service.default.svc.cluster.local:80/*'}],replay=True, record=False,load=10, level=1,useMetricServer = False)\n",
    "print(\"state:\", state)"
   ]
  },
  {
   "cell_type": "markdown",
   "metadata": {},
   "source": [
    "## Scale the number of containers"
   ]
  },
  {
   "cell_type": "code",
   "execution_count": null,
   "metadata": {},
   "outputs": [],
   "source": [
    "print(\"Scale front-dynamic-component deployment to 10 pods and wait for kubernetes completion and wait for the changes to be detected by prometheus\")\n",
    "status, message = environment.setKubernetesDeploymentScale(deployment=\"front-dynamic-component\",number=10,waitKubernetes=True,waitPrometheus=True)\n",
    "print(\"message:\", message)\n",
    "\n",
    "print(\"retrieve deployment status\")\n",
    "status, message = environment.getDeploymentState(\"front-dynamic-component\")\n",
    "print(\"deployment configuration:\", message)\n",
    "\n",
    "print(\"Increment front-dynamic-component deployment with 1 pod and wait for kubernetes completion and wait for the changes to be detected by prometheus\")\n",
    "status, message = environment.incrementalKubernetesDeploymentScale(deployment=\"front-dynamic-component\",step=1,waitKubernetes=True,waitPrometheus=True)\n",
    "print(\"message:\", message)\n",
    "\n",
    "print(\"Increment front-dynamic-component deployment with 1 pod and do not wait\")\n",
    "status, message = environment.incrementalKubernetesDeploymentScale(deployment=\"front-dynamic-component\",step=1,waitKubernetes=False,waitPrometheus=False)\n",
    "print(\"message:\", message)\n",
    "\n",
    "print(\"Scale front-dynamic-component deployment to 1 pods and wait for kubernetes completion and wait for the changes to be detected by prometheus\")\n",
    "status, message = environment.setKubernetesDeploymentScale(deployment=\"front-dynamic-component\",number=1,waitKubernetes=True,waitPrometheus=True)\n",
    "print(\"message:\", message)"
   ]
  },
  {
   "cell_type": "markdown",
   "metadata": {},
   "source": [
    "## Reset stats"
   ]
  },
  {
   "cell_type": "code",
   "execution_count": null,
   "metadata": {},
   "outputs": [],
   "source": [
    "print(\"Reset zipkin collector stats\")\n",
    "status, message = environment.resetZipkinStats()\n",
    "print(\"message:\", message)\n",
    "\n",
    "print(\"Reset prometheus collector stats\")\n",
    "status, message = environment.resetPrometheusStats()\n",
    "print(\"message:\", message)\n",
    "\n",
    "print(\"reset locust stats\")\n",
    "status, message = environment.resetLocustStats()\n",
    "print(\"message:\", message)"
   ]
  },
  {
   "cell_type": "markdown",
   "metadata": {},
   "source": [
    "## Debug"
   ]
  },
  {
   "cell_type": "code",
   "execution_count": null,
   "metadata": {},
   "outputs": [],
   "source": [
    "print(\"Activate debug on orchestrator thread\")\n",
    "status, message = environment.activateDebug(component='orchestrator')\n",
    "print(\"message:\", message)\n",
    "\n",
    "print(\"Activate debug on zipkin collector thread\")\n",
    "status, message = environment.activateDebug(component='zipkin')\n",
    "print(\"message:\", message)\n",
    "\n",
    "print(\"Activate debug on prometheus collector thread\")\n",
    "status, message = environment.activateDebug(component='prometheus')\n",
    "print(\"message:\", message)\n",
    "\n",
    "print(\"Activate debug on orchestrator thread\")\n",
    "status, message = environment.activateDebug(component='orchestrator')\n",
    "print(\"message:\", message)\n",
    "\n",
    "print(\"Deactivate debug on zipkin collector thread\")\n",
    "status, message = environment.deactivateDebug(component='zipkin')\n",
    "print(\"message:\", message)\n",
    "\n",
    "print(\"Deactivate debug on prometheus collector thread\")\n",
    "status, message = environment.deactivateDebug(component='prometheus')\n",
    "print(\"message:\", message)\n",
    "\n",
    "print(\"Deactivate debug on orchestrator thread\")\n",
    "status, message = environment.deactivateDebug(component='orchestrator')\n",
    "print(\"message:\", message)"
   ]
  },
  {
   "cell_type": "markdown",
   "metadata": {},
   "source": [
    "## Stop locust injection"
   ]
  },
  {
   "cell_type": "code",
   "execution_count": null,
   "metadata": {},
   "outputs": [],
   "source": [
    "\n",
    "print(\"stop locust injection\")\n",
    "status, message = environment.stopLocustInjection()\n",
    "print(\"message:\", message)\n"
   ]
  },
  {
   "cell_type": "code",
   "execution_count": null,
   "metadata": {},
   "outputs": [],
   "source": []
  }
 ],
 "metadata": {
  "kernelspec": {
   "display_name": "Python 3",
   "language": "python",
   "name": "python3"
  },
  "language_info": {
   "codemirror_mode": {
    "name": "ipython",
    "version": 3
   },
   "file_extension": ".py",
   "mimetype": "text/x-python",
   "name": "python",
   "nbconvert_exporter": "python",
   "pygments_lexer": "ipython3",
   "version": "3.8.3"
  }
 },
 "nbformat": 4,
 "nbformat_minor": 4
}
