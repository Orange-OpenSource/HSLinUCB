{
 "cells": [
  {
   "cell_type": "code",
   "execution_count": null,
   "metadata": {},
   "outputs": [],
   "source": [
    "import json\n",
    "import time\n",
    "from tqdm import trange\n",
    "from lib.CogscalingLib import Orchestrator\n",
    "\n",
    "#sessionFile is used for recording or replaying states for offline learning.\n",
    "sessionFile=\"record_session-last.h5\"\n",
    "environment = Orchestrator(debug=False, sessionFile=sessionFile)\n"
   ]
  },
  {
   "cell_type": "markdown",
   "metadata": {},
   "source": [
    "## Setup"
   ]
  },
  {
   "cell_type": "code",
   "execution_count": null,
   "metadata": {},
   "outputs": [],
   "source": [
    "#Environment setup\n",
    "Min_front = 1\n",
    "Max_front = 10\n",
    "prometheus_trace_number = 12 #Prometheus thread buffer size\n",
    "prometheus_trace_before_scaling = 0 #Number of prometheus measure to take before raising the event scaling done\n",
    "WaitForKubernetesWhenScaling = True\n",
    "WaitForPrometheusWhenScaling = True\n",
    "zipkin_trace_number = 12000 #Zipkin thread buffer size\n",
    "zipkin_lookback = 12 #Zipkin thread lookback window -> 10s\n",
    "MeasureNumberForEachState = 20 #Number of measures to take for each couple [injected user number; number of container]\n",
    "\n",
    "#Injector setup\n",
    "min_load = 5\n",
    "max_load = 10"
   ]
  },
  {
   "cell_type": "markdown",
   "metadata": {},
   "source": [
    "## Orchestrator configuration and functions"
   ]
  },
  {
   "cell_type": "code",
   "execution_count": null,
   "metadata": {},
   "outputs": [],
   "source": [
    "status, message = environment.setDeploymentLimit(deployment=\"front-dynamic-component\", min=Min_front, max=Max_front)\n",
    "print(\"message:\", message)\n",
    "\n",
    "status, message = environment.setZipkinService(services=['istio-ingressgateway','front-dynamic-component.default'])\n",
    "print(\"message:\", message)\n",
    "\n",
    "\n",
    "status, message = environment.setPrometheusService(deployments=['front-dynamic-component'])\n",
    "print(\"message:\", message)\n",
    "\n",
    "\n",
    "status, message = environment.changePrometheusTraceNumber(trace_number=prometheus_trace_number)\n",
    "print(\"message:\", message)\n",
    "\n",
    "status, message = environment.setSampleNumberBeforeAcceptScaling(sampleNumber=prometheus_trace_before_scaling)\n",
    "print(\"message:\", message)\n",
    "\n",
    "\n",
    "status, message = environment.changeZipkinTraceNumber(trace_number=zipkin_trace_number)\n",
    "print(\"message:\", message)\n",
    "\n",
    "status, message = environment.setZipkinLookback(lookback=zipkin_lookback)\n",
    "print(\"message:\", message)\n",
    "\n",
    "status, message = environment.getConfig()\n",
    "print(\"configuration:\", message)\n",
    "\n",
    "def changeInjector(user_level):\n",
    "    status, message = environment.setLocustUser(user=int(user_level),spawn_rate=1)\n",
    "    print(\"message:\", message)\n",
    "\n",
    "def ChangeScaling(front_number):\n",
    "    status, message = environment.setKubernetesDeploymentScale(deployment=\"front-dynamic-component\",number=front_number,waitKubernetes=WaitForKubernetesWhenScaling,waitPrometheus=WaitForPrometheusWhenScaling)\n",
    "    print(\"message:\", message)\n",
    "\n",
    "def take_measures(measureCount):\n",
    "    for num_samples in trange(measureCount):\n",
    "            #state = environment.getAgregatedState(components=[{'prometheus': 'front-dynamic-component','zipkin': 'front-dynamic-component-service.default.svc.cluster.local:80/*'}],zipkinOnly=False,prometheusOnly=False,record=True,replay=False)\n",
    "            state = environment.getAgregatedState(components=[{'prometheus': 'front-dynamic-component','zipkin': 'front-dynamic-component-service.default.svc.cluster.local:80/*'}],replay=False, record=True,useMetricServer = False)"
   ]
  },
  {
   "cell_type": "markdown",
   "metadata": {},
   "source": [
    "## Start capture by increasing user 5 by 5."
   ]
  },
  {
   "cell_type": "code",
   "execution_count": null,
   "metadata": {},
   "outputs": [],
   "source": [
    "print(\"Ascent measures front...\")\n",
    "for load in trange(min_load,max_load + 1,5):\n",
    "    print(\"Change injector user number:\", load)\n",
    "    changeInjector(load)\n",
    "    for front_number in trange(Min_front,Max_front + 1):\n",
    "        print(\"Change system scaling to front number:\", front_number)\n",
    "        ChangeScaling(front_number)\n",
    "        take_measures(MeasureNumberForEachState)\n",
    "\n",
    "print(\"Descent measures front...\")\n",
    "for load in trange(max_load,0,-5):\n",
    "    print(\"Change injector user number:\", load)\n",
    "    changeInjector(load)\n",
    "    for front_number in trange(Max_front,Min_front -1,-1):\n",
    "        print(\"Change system scaling to front number:\", front_number)\n",
    "        ChangeScaling(front_number)\n",
    "        take_measures(MeasureNumberForEachState)\n",
    "print(\"dataset is now ready for offline learning\")"
   ]
  },
  {
   "cell_type": "code",
   "execution_count": null,
   "metadata": {},
   "outputs": [],
   "source": []
  }
 ],
 "metadata": {
  "kernelspec": {
   "display_name": "Python 3",
   "language": "python",
   "name": "python3"
  },
  "language_info": {
   "codemirror_mode": {
    "name": "ipython",
    "version": 3
   },
   "file_extension": ".py",
   "mimetype": "text/x-python",
   "name": "python",
   "nbconvert_exporter": "python",
   "pygments_lexer": "ipython3",
   "version": "3.8.3"
  }
 },
 "nbformat": 4,
 "nbformat_minor": 4
}
